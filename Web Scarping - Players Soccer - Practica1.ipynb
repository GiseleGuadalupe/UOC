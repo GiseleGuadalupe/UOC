{
 "cells": [
  {
   "cell_type": "markdown",
   "metadata": {},
   "source": [
    "### UOC - Universitat Oberta de Catalunya\n",
    "* Tipología y ciclo de vida de los datos - Practica 1 - Web Scraping\n",
    "* Master en Data Science\n",
    "* Alumna: Gisele Guadalupe Almeida dos Santos Maia"
   ]
  },
  {
   "cell_type": "code",
   "execution_count": 1,
   "metadata": {},
   "outputs": [],
   "source": [
    "# Se hace la importación de las librerías que vamos a utilizar en el web scarping\n",
    "import re\n",
    "import pandas as pd\n",
    "import requests\n",
    "from bs4 import BeautifulSoup"
   ]
  },
  {
   "cell_type": "markdown",
   "metadata": {},
   "source": [
    "#### Captura de la tabla con los datos de 2016 "
   ]
  },
  {
   "cell_type": "code",
   "execution_count": 2,
   "metadata": {},
   "outputs": [
    {
     "name": "stdout",
     "output_type": "stream",
     "text": [
      "Se conecta!\n"
     ]
    }
   ],
   "source": [
    "# Añadimos la página web para la captura de los datos y miramos se hay conexión\n",
    "req = requests.get('https://fbref.com/en/comps/24/1495/stats/2016-Serie-A-Stats')\n",
    "if req.status_code == 200:\n",
    "    print('Se conecta!')\n",
    "    content = req.content"
   ]
  },
  {
   "cell_type": "code",
   "execution_count": 3,
   "metadata": {},
   "outputs": [],
   "source": [
    "# Se hace utilización del BeautifulSoup indicando la tabla que se quiere recoger\n",
    "soup = BeautifulSoup(content, 'html.parser')\n",
    "stats_html = soup.find(string=re.compile('id=\"div_stats_player\"'))\n",
    "stats_soup = BeautifulSoup(stats_html, \"html.parser\")\n",
    "table_str = str(stats_soup)\n",
    "# deja los datos cómo dataframe\n",
    "df = pd.read_html(table_str)[0]\n",
    "df.columns = df.columns.droplevel(0)\n",
    "#cómo vamos añadir otros años, aquí ya se hace referencia al que hemos recogido\n",
    "df['Year'] = 2016"
   ]
  },
  {
   "cell_type": "markdown",
   "metadata": {},
   "source": [
    "#### Captura de la tabla con los datos de 2017 "
   ]
  },
  {
   "cell_type": "code",
   "execution_count": 4,
   "metadata": {},
   "outputs": [
    {
     "name": "stdout",
     "output_type": "stream",
     "text": [
      "Se conecta!\n"
     ]
    }
   ],
   "source": [
    "req = requests.get('https://fbref.com/en/comps/24/1559/stats/2017-Serie-A-Stats')\n",
    "if req.status_code == 200:\n",
    "    print('Se conecta!')\n",
    "    content = req.content"
   ]
  },
  {
   "cell_type": "code",
   "execution_count": 5,
   "metadata": {},
   "outputs": [],
   "source": [
    "soup = BeautifulSoup(content, 'html.parser')\n",
    "stats_html = soup.find(string=re.compile('id=\"div_stats_player\"'))\n",
    "stats_soup = BeautifulSoup(stats_html, \"html.parser\")\n",
    "table_str = str(stats_soup)\n",
    "df1 = pd.read_html(table_str)[0]\n",
    "df1.columns = df1.columns.droplevel(0)\n",
    "df1['Year'] = 2017"
   ]
  },
  {
   "cell_type": "markdown",
   "metadata": {},
   "source": [
    "#### Captura de la tabla con los datos de 2018"
   ]
  },
  {
   "cell_type": "code",
   "execution_count": 6,
   "metadata": {},
   "outputs": [
    {
     "name": "stdout",
     "output_type": "stream",
     "text": [
      "Se conecta!\n"
     ]
    }
   ],
   "source": [
    "req = requests.get('https://fbref.com/en/comps/24/1760/stats/2018-Serie-A-Stats')\n",
    "if req.status_code == 200:\n",
    "    print('Se conecta!')\n",
    "    content = req.content"
   ]
  },
  {
   "cell_type": "code",
   "execution_count": 7,
   "metadata": {},
   "outputs": [],
   "source": [
    "soup = BeautifulSoup(content, 'html.parser')\n",
    "stats_html = soup.find(string=re.compile('id=\"div_stats_player\"'))\n",
    "stats_soup = BeautifulSoup(stats_html, \"html.parser\")\n",
    "table_str = str(stats_soup)\n",
    "df2 = pd.read_html(table_str)[0]\n",
    "df2.columns = df2.columns.droplevel(0)\n",
    "df2['Year'] = 2018"
   ]
  },
  {
   "cell_type": "markdown",
   "metadata": {},
   "source": [
    "#### Captura de la tabla con los datos de 2019"
   ]
  },
  {
   "cell_type": "code",
   "execution_count": 8,
   "metadata": {},
   "outputs": [
    {
     "name": "stdout",
     "output_type": "stream",
     "text": [
      "Se conecta!\n"
     ]
    }
   ],
   "source": [
    "req = requests.get('https://fbref.com/en/comps/24/stats/Serie-A-Stats')\n",
    "if req.status_code == 200:\n",
    "    print('Se conecta!')\n",
    "    content = req.content"
   ]
  },
  {
   "cell_type": "code",
   "execution_count": 9,
   "metadata": {},
   "outputs": [],
   "source": [
    "soup = BeautifulSoup(content, 'html.parser')\n",
    "stats_html = soup.find(string=re.compile('id=\"div_stats_player\"'))\n",
    "stats_soup = BeautifulSoup(stats_html, \"html.parser\")\n",
    "table_str = str(stats_soup)\n",
    "df3 = pd.read_html(table_str)[0]\n",
    "df3.columns = df3.columns.droplevel(0)\n",
    "df3['Year'] = 2019"
   ]
  },
  {
   "cell_type": "code",
   "execution_count": 10,
   "metadata": {},
   "outputs": [],
   "source": [
    "# se hace la unión de todas las tablas recogidas de los 4 anõs\n",
    "df_fin = df.append(df1).append(df2).append(df3)"
   ]
  },
  {
   "cell_type": "code",
   "execution_count": 11,
   "metadata": {},
   "outputs": [
    {
     "data": {
      "text/html": [
       "<div>\n",
       "<style scoped>\n",
       "    .dataframe tbody tr th:only-of-type {\n",
       "        vertical-align: middle;\n",
       "    }\n",
       "\n",
       "    .dataframe tbody tr th {\n",
       "        vertical-align: top;\n",
       "    }\n",
       "\n",
       "    .dataframe thead th {\n",
       "        text-align: right;\n",
       "    }\n",
       "</style>\n",
       "<table border=\"1\" class=\"dataframe\">\n",
       "  <thead>\n",
       "    <tr style=\"text-align: right;\">\n",
       "      <th></th>\n",
       "      <th>Rk</th>\n",
       "      <th>Player</th>\n",
       "      <th>Nation</th>\n",
       "      <th>Pos</th>\n",
       "      <th>Squad</th>\n",
       "      <th>Age</th>\n",
       "      <th>Born</th>\n",
       "      <th>Apps</th>\n",
       "      <th>Starts</th>\n",
       "      <th>Min</th>\n",
       "      <th>...</th>\n",
       "      <th>SoT</th>\n",
       "      <th>Fls</th>\n",
       "      <th>CrdY</th>\n",
       "      <th>CrdR</th>\n",
       "      <th>Gls</th>\n",
       "      <th>G+A</th>\n",
       "      <th>G-PK</th>\n",
       "      <th>G+A-PK</th>\n",
       "      <th>SoT</th>\n",
       "      <th>Year</th>\n",
       "    </tr>\n",
       "  </thead>\n",
       "  <tbody>\n",
       "    <tr>\n",
       "      <th>0</th>\n",
       "      <td>1</td>\n",
       "      <td>Renato</td>\n",
       "      <td>br BRA</td>\n",
       "      <td>MF</td>\n",
       "      <td>Santos</td>\n",
       "      <td>36</td>\n",
       "      <td>1979</td>\n",
       "      <td>38</td>\n",
       "      <td>38</td>\n",
       "      <td>3368</td>\n",
       "      <td>...</td>\n",
       "      <td>7</td>\n",
       "      <td>28</td>\n",
       "      <td>2</td>\n",
       "      <td>0</td>\n",
       "      <td>0.05</td>\n",
       "      <td>0.13</td>\n",
       "      <td>0.05</td>\n",
       "      <td>0.13</td>\n",
       "      <td>0.19</td>\n",
       "      <td>2016</td>\n",
       "    </tr>\n",
       "    <tr>\n",
       "      <th>1</th>\n",
       "      <td>2</td>\n",
       "      <td>Henrique</td>\n",
       "      <td>br BRA</td>\n",
       "      <td>DF</td>\n",
       "      <td>Fluminense</td>\n",
       "      <td>29</td>\n",
       "      <td>1986</td>\n",
       "      <td>37</td>\n",
       "      <td>37</td>\n",
       "      <td>3330</td>\n",
       "      <td>...</td>\n",
       "      <td>7</td>\n",
       "      <td>29</td>\n",
       "      <td>5</td>\n",
       "      <td>0</td>\n",
       "      <td>0.00</td>\n",
       "      <td>0.00</td>\n",
       "      <td>0.00</td>\n",
       "      <td>0.00</td>\n",
       "      <td>0.19</td>\n",
       "      <td>2016</td>\n",
       "    </tr>\n",
       "    <tr>\n",
       "      <th>2</th>\n",
       "      <td>3</td>\n",
       "      <td>Wilson</td>\n",
       "      <td>br BRA</td>\n",
       "      <td>GK</td>\n",
       "      <td>Coritiba</td>\n",
       "      <td>32</td>\n",
       "      <td>1984</td>\n",
       "      <td>37</td>\n",
       "      <td>37</td>\n",
       "      <td>3330</td>\n",
       "      <td>...</td>\n",
       "      <td>0</td>\n",
       "      <td>1</td>\n",
       "      <td>1</td>\n",
       "      <td>0</td>\n",
       "      <td>0.00</td>\n",
       "      <td>0.00</td>\n",
       "      <td>0.00</td>\n",
       "      <td>0.00</td>\n",
       "      <td>0.00</td>\n",
       "      <td>2016</td>\n",
       "    </tr>\n",
       "    <tr>\n",
       "      <th>3</th>\n",
       "      <td>4</td>\n",
       "      <td>Ernando</td>\n",
       "      <td>br BRA</td>\n",
       "      <td>DF</td>\n",
       "      <td>Internacional</td>\n",
       "      <td>27</td>\n",
       "      <td>1988</td>\n",
       "      <td>37</td>\n",
       "      <td>37</td>\n",
       "      <td>3319</td>\n",
       "      <td>...</td>\n",
       "      <td>7</td>\n",
       "      <td>24</td>\n",
       "      <td>4</td>\n",
       "      <td>0</td>\n",
       "      <td>0.05</td>\n",
       "      <td>0.16</td>\n",
       "      <td>0.05</td>\n",
       "      <td>0.16</td>\n",
       "      <td>0.19</td>\n",
       "      <td>2016</td>\n",
       "    </tr>\n",
       "    <tr>\n",
       "      <th>4</th>\n",
       "      <td>5</td>\n",
       "      <td>Vanderlei</td>\n",
       "      <td>br BRA</td>\n",
       "      <td>GK</td>\n",
       "      <td>Santos</td>\n",
       "      <td>32</td>\n",
       "      <td>1984</td>\n",
       "      <td>37</td>\n",
       "      <td>37</td>\n",
       "      <td>3318</td>\n",
       "      <td>...</td>\n",
       "      <td>0</td>\n",
       "      <td>1</td>\n",
       "      <td>2</td>\n",
       "      <td>1</td>\n",
       "      <td>0.00</td>\n",
       "      <td>0.00</td>\n",
       "      <td>0.00</td>\n",
       "      <td>0.00</td>\n",
       "      <td>0.00</td>\n",
       "      <td>2016</td>\n",
       "    </tr>\n",
       "  </tbody>\n",
       "</table>\n",
       "<p>5 rows × 25 columns</p>\n",
       "</div>"
      ],
      "text/plain": [
       "  Rk     Player  Nation Pos          Squad Age  Born Apps Starts   Min  ...  \\\n",
       "0  1     Renato  br BRA  MF         Santos  36  1979   38     38  3368  ...   \n",
       "1  2   Henrique  br BRA  DF     Fluminense  29  1986   37     37  3330  ...   \n",
       "2  3     Wilson  br BRA  GK       Coritiba  32  1984   37     37  3330  ...   \n",
       "3  4    Ernando  br BRA  DF  Internacional  27  1988   37     37  3319  ...   \n",
       "4  5  Vanderlei  br BRA  GK         Santos  32  1984   37     37  3318  ...   \n",
       "\n",
       "  SoT Fls CrdY CrdR   Gls   G+A  G-PK G+A-PK   SoT  Year  \n",
       "0   7  28    2    0  0.05  0.13  0.05   0.13  0.19  2016  \n",
       "1   7  29    5    0  0.00  0.00  0.00   0.00  0.19  2016  \n",
       "2   0   1    1    0  0.00  0.00  0.00   0.00  0.00  2016  \n",
       "3   7  24    4    0  0.05  0.16  0.05   0.16  0.19  2016  \n",
       "4   0   1    2    1  0.00  0.00  0.00   0.00  0.00  2016  \n",
       "\n",
       "[5 rows x 25 columns]"
      ]
     },
     "execution_count": 11,
     "metadata": {},
     "output_type": "execute_result"
    }
   ],
   "source": [
    "# se mira las 5 primeras lineas del dataframe\n",
    "df_fin.head()"
   ]
  },
  {
   "cell_type": "code",
   "execution_count": 12,
   "metadata": {},
   "outputs": [],
   "source": [
    "# se borra las lineas que contienen 'Rk' que es el título de las tablas de los anõs de 2017 hasta 2019\n",
    "drop_indexes = df_fin[df_fin['Rk'] == 'Rk'].index \n",
    "df_fin.drop(drop_indexes, inplace=True) "
   ]
  },
  {
   "cell_type": "code",
   "execution_count": 13,
   "metadata": {},
   "outputs": [
    {
     "data": {
      "text/plain": [
       "Rk        object\n",
       "Player    object\n",
       "Nation    object\n",
       "Pos       object\n",
       "Squad     object\n",
       "Age       object\n",
       "Born      object\n",
       "Apps      object\n",
       "Starts    object\n",
       "Min       object\n",
       "Mn/Ap     object\n",
       "Gls       object\n",
       "Ast       object\n",
       "PK        object\n",
       "PKatt     object\n",
       "SoT       object\n",
       "Fls       object\n",
       "CrdY      object\n",
       "CrdR      object\n",
       "Gls       object\n",
       "G+A       object\n",
       "G-PK      object\n",
       "G+A-PK    object\n",
       "SoT       object\n",
       "Year       int64\n",
       "dtype: object"
      ]
     },
     "execution_count": 13,
     "metadata": {},
     "output_type": "execute_result"
    }
   ],
   "source": [
    "# mira los tipos de los datos\n",
    "df_fin.dtypes"
   ]
  },
  {
   "cell_type": "code",
   "execution_count": 14,
   "metadata": {},
   "outputs": [],
   "source": [
    "# hace la transformación de datos que están cómo object para numerico\n",
    "df_fin['Rk'] = df_fin['Rk'].apply(pd.to_numeric)\n",
    "df_fin['Age'] = df_fin['Age'].apply(pd.to_numeric)\n",
    "df_fin['Born'] = df_fin['Born'].apply(pd.to_numeric)\n",
    "df_fin['Apps'] = df_fin['Apps'].apply(pd.to_numeric)\n",
    "df_fin['Starts'] = df_fin['Starts'].apply(pd.to_numeric)\n",
    "df_fin['Min'] = df_fin['Min'].apply(pd.to_numeric)\n",
    "df_fin['Mn/Ap'] = df_fin['Mn/Ap'].apply(pd.to_numeric)\n",
    "df_fin['Gls'] = df_fin['Gls'].apply(pd.to_numeric)\n",
    "df_fin['Ast'] = df_fin['Ast'].apply(pd.to_numeric)\n",
    "df_fin['PK'] = df_fin['PK'].apply(pd.to_numeric)"
   ]
  },
  {
   "cell_type": "code",
   "execution_count": 15,
   "metadata": {},
   "outputs": [],
   "source": [
    "df_fin['PKatt'] = df_fin['PKatt'].apply(pd.to_numeric)\n",
    "df_fin['SoT'] = df_fin['SoT'].apply(pd.to_numeric)\n",
    "df_fin['Fls'] = df_fin['Fls'].apply(pd.to_numeric)\n",
    "df_fin['CrdY'] = df_fin['CrdY'].apply(pd.to_numeric)\n",
    "df_fin['CrdR'] = df_fin['CrdR'].apply(pd.to_numeric)\n",
    "df_fin['Gls'] = df_fin['Gls'].apply(pd.to_numeric)\n",
    "df_fin['G+A'] = df_fin['G+A'].apply(pd.to_numeric)\n",
    "df_fin['G-PK'] = df_fin['G-PK'].apply(pd.to_numeric)\n",
    "df_fin['G+A-PK'] = df_fin['G+A-PK'].apply(pd.to_numeric)\n",
    "df_fin['SoT'] = df_fin['SoT'].apply(pd.to_numeric)"
   ]
  },
  {
   "cell_type": "code",
   "execution_count": 16,
   "metadata": {},
   "outputs": [],
   "source": [
    "# cambia los nombres de las columnas que hacen referencia a 90 minutos de la partida\n",
    "df_fin.columns.values[19] = 'Gls_90min'\n",
    "df_fin.columns.values[20] = 'G+A_90min'\n",
    "df_fin.columns.values[21] = 'G-PK_90min'\n",
    "df_fin.columns.values[22] = 'G+A-PK_90min'\n",
    "df_fin.columns.values[23] = 'SoT_90min'"
   ]
  },
  {
   "cell_type": "code",
   "execution_count": 17,
   "metadata": {},
   "outputs": [
    {
     "data": {
      "text/plain": [
       "Rk                int64\n",
       "Player           object\n",
       "Nation           object\n",
       "Pos              object\n",
       "Squad            object\n",
       "Age             float64\n",
       "Born            float64\n",
       "Apps              int64\n",
       "Starts            int64\n",
       "Min             float64\n",
       "Mn/Ap             int64\n",
       "Gls             float64\n",
       "Ast               int64\n",
       "PK                int64\n",
       "PKatt             int64\n",
       "SoT             float64\n",
       "Fls               int64\n",
       "CrdY              int64\n",
       "CrdR              int64\n",
       "Gls_90min       float64\n",
       "G+A_90min       float64\n",
       "G-PK_90min      float64\n",
       "G+A-PK_90min    float64\n",
       "SoT_90min       float64\n",
       "Year              int64\n",
       "dtype: object"
      ]
     },
     "execution_count": 17,
     "metadata": {},
     "output_type": "execute_result"
    }
   ],
   "source": [
    "df_fin.dtypes"
   ]
  },
  {
   "cell_type": "code",
   "execution_count": 18,
   "metadata": {},
   "outputs": [
    {
     "data": {
      "text/plain": [
       "<seaborn.axisgrid.FacetGrid at 0x236d9086fd0>"
      ]
     },
     "execution_count": 18,
     "metadata": {},
     "output_type": "execute_result"
    }
   ],
   "source": [
    "# Importación de más librarías para visualización de algunos datos\n",
    "import numpy as np\n",
    "import matplotlib.pyplot as plt\n",
    "import seaborn as sns\n",
    "sns.catplot(x=\"Year\",y=\"Gls\",kind='box',hue='Nation',data=df_fin)"
   ]
  },
  {
   "cell_type": "code",
   "execution_count": 19,
   "metadata": {},
   "outputs": [],
   "source": [
    "# Cómo hay otras nacionalidades en el dataframe, se queda solamente con los jugadores brasileños\n",
    "dfbra = df_fin[df_fin['Nation'] == \"br BRA\"]"
   ]
  },
  {
   "cell_type": "code",
   "execution_count": 20,
   "metadata": {},
   "outputs": [
    {
     "data": {
      "text/html": [
       "<div>\n",
       "<style scoped>\n",
       "    .dataframe tbody tr th:only-of-type {\n",
       "        vertical-align: middle;\n",
       "    }\n",
       "\n",
       "    .dataframe tbody tr th {\n",
       "        vertical-align: top;\n",
       "    }\n",
       "\n",
       "    .dataframe thead th {\n",
       "        text-align: right;\n",
       "    }\n",
       "</style>\n",
       "<table border=\"1\" class=\"dataframe\">\n",
       "  <thead>\n",
       "    <tr style=\"text-align: right;\">\n",
       "      <th></th>\n",
       "      <th>Rk</th>\n",
       "      <th>Player</th>\n",
       "      <th>Nation</th>\n",
       "      <th>Pos</th>\n",
       "      <th>Squad</th>\n",
       "      <th>Age</th>\n",
       "      <th>Born</th>\n",
       "      <th>Apps</th>\n",
       "      <th>Starts</th>\n",
       "      <th>Min</th>\n",
       "      <th>...</th>\n",
       "      <th>SoT</th>\n",
       "      <th>Fls</th>\n",
       "      <th>CrdY</th>\n",
       "      <th>CrdR</th>\n",
       "      <th>Gls_90min</th>\n",
       "      <th>G+A_90min</th>\n",
       "      <th>G-PK_90min</th>\n",
       "      <th>G+A-PK_90min</th>\n",
       "      <th>SoT_90min</th>\n",
       "      <th>Year</th>\n",
       "    </tr>\n",
       "  </thead>\n",
       "  <tbody>\n",
       "    <tr>\n",
       "      <th>0</th>\n",
       "      <td>1</td>\n",
       "      <td>Renato</td>\n",
       "      <td>br BRA</td>\n",
       "      <td>MF</td>\n",
       "      <td>Santos</td>\n",
       "      <td>36.0</td>\n",
       "      <td>1979.0</td>\n",
       "      <td>38</td>\n",
       "      <td>38</td>\n",
       "      <td>3368.0</td>\n",
       "      <td>...</td>\n",
       "      <td>7.0</td>\n",
       "      <td>28</td>\n",
       "      <td>2</td>\n",
       "      <td>0</td>\n",
       "      <td>0.05</td>\n",
       "      <td>0.13</td>\n",
       "      <td>0.05</td>\n",
       "      <td>0.13</td>\n",
       "      <td>0.19</td>\n",
       "      <td>2016</td>\n",
       "    </tr>\n",
       "    <tr>\n",
       "      <th>1</th>\n",
       "      <td>2</td>\n",
       "      <td>Henrique</td>\n",
       "      <td>br BRA</td>\n",
       "      <td>DF</td>\n",
       "      <td>Fluminense</td>\n",
       "      <td>29.0</td>\n",
       "      <td>1986.0</td>\n",
       "      <td>37</td>\n",
       "      <td>37</td>\n",
       "      <td>3330.0</td>\n",
       "      <td>...</td>\n",
       "      <td>7.0</td>\n",
       "      <td>29</td>\n",
       "      <td>5</td>\n",
       "      <td>0</td>\n",
       "      <td>0.00</td>\n",
       "      <td>0.00</td>\n",
       "      <td>0.00</td>\n",
       "      <td>0.00</td>\n",
       "      <td>0.19</td>\n",
       "      <td>2016</td>\n",
       "    </tr>\n",
       "    <tr>\n",
       "      <th>2</th>\n",
       "      <td>3</td>\n",
       "      <td>Wilson</td>\n",
       "      <td>br BRA</td>\n",
       "      <td>GK</td>\n",
       "      <td>Coritiba</td>\n",
       "      <td>32.0</td>\n",
       "      <td>1984.0</td>\n",
       "      <td>37</td>\n",
       "      <td>37</td>\n",
       "      <td>3330.0</td>\n",
       "      <td>...</td>\n",
       "      <td>0.0</td>\n",
       "      <td>1</td>\n",
       "      <td>1</td>\n",
       "      <td>0</td>\n",
       "      <td>0.00</td>\n",
       "      <td>0.00</td>\n",
       "      <td>0.00</td>\n",
       "      <td>0.00</td>\n",
       "      <td>0.00</td>\n",
       "      <td>2016</td>\n",
       "    </tr>\n",
       "    <tr>\n",
       "      <th>3</th>\n",
       "      <td>4</td>\n",
       "      <td>Ernando</td>\n",
       "      <td>br BRA</td>\n",
       "      <td>DF</td>\n",
       "      <td>Internacional</td>\n",
       "      <td>27.0</td>\n",
       "      <td>1988.0</td>\n",
       "      <td>37</td>\n",
       "      <td>37</td>\n",
       "      <td>3319.0</td>\n",
       "      <td>...</td>\n",
       "      <td>7.0</td>\n",
       "      <td>24</td>\n",
       "      <td>4</td>\n",
       "      <td>0</td>\n",
       "      <td>0.05</td>\n",
       "      <td>0.16</td>\n",
       "      <td>0.05</td>\n",
       "      <td>0.16</td>\n",
       "      <td>0.19</td>\n",
       "      <td>2016</td>\n",
       "    </tr>\n",
       "    <tr>\n",
       "      <th>4</th>\n",
       "      <td>5</td>\n",
       "      <td>Vanderlei</td>\n",
       "      <td>br BRA</td>\n",
       "      <td>GK</td>\n",
       "      <td>Santos</td>\n",
       "      <td>32.0</td>\n",
       "      <td>1984.0</td>\n",
       "      <td>37</td>\n",
       "      <td>37</td>\n",
       "      <td>3318.0</td>\n",
       "      <td>...</td>\n",
       "      <td>0.0</td>\n",
       "      <td>1</td>\n",
       "      <td>2</td>\n",
       "      <td>1</td>\n",
       "      <td>0.00</td>\n",
       "      <td>0.00</td>\n",
       "      <td>0.00</td>\n",
       "      <td>0.00</td>\n",
       "      <td>0.00</td>\n",
       "      <td>2016</td>\n",
       "    </tr>\n",
       "  </tbody>\n",
       "</table>\n",
       "<p>5 rows × 25 columns</p>\n",
       "</div>"
      ],
      "text/plain": [
       "   Rk     Player  Nation Pos          Squad   Age    Born  Apps  Starts  \\\n",
       "0   1     Renato  br BRA  MF         Santos  36.0  1979.0    38      38   \n",
       "1   2   Henrique  br BRA  DF     Fluminense  29.0  1986.0    37      37   \n",
       "2   3     Wilson  br BRA  GK       Coritiba  32.0  1984.0    37      37   \n",
       "3   4    Ernando  br BRA  DF  Internacional  27.0  1988.0    37      37   \n",
       "4   5  Vanderlei  br BRA  GK         Santos  32.0  1984.0    37      37   \n",
       "\n",
       "      Min  ...  SoT  Fls  CrdY  CrdR  Gls_90min  G+A_90min  G-PK_90min  \\\n",
       "0  3368.0  ...  7.0   28     2     0       0.05       0.13        0.05   \n",
       "1  3330.0  ...  7.0   29     5     0       0.00       0.00        0.00   \n",
       "2  3330.0  ...  0.0    1     1     0       0.00       0.00        0.00   \n",
       "3  3319.0  ...  7.0   24     4     0       0.05       0.16        0.05   \n",
       "4  3318.0  ...  0.0    1     2     1       0.00       0.00        0.00   \n",
       "\n",
       "   G+A-PK_90min  SoT_90min  Year  \n",
       "0          0.13       0.19  2016  \n",
       "1          0.00       0.19  2016  \n",
       "2          0.00       0.00  2016  \n",
       "3          0.16       0.19  2016  \n",
       "4          0.00       0.00  2016  \n",
       "\n",
       "[5 rows x 25 columns]"
      ]
     },
     "execution_count": 20,
     "metadata": {},
     "output_type": "execute_result"
    }
   ],
   "source": [
    "dfbra.head()"
   ]
  },
  {
   "cell_type": "code",
   "execution_count": 21,
   "metadata": {},
   "outputs": [
    {
     "data": {
      "text/plain": [
       "(2616, 25)"
      ]
     },
     "execution_count": 21,
     "metadata": {},
     "output_type": "execute_result"
    }
   ],
   "source": [
    "# Se mira el total de lineas y columnas que contiene el dataframe\n",
    "dfbra.shape"
   ]
  },
  {
   "cell_type": "code",
   "execution_count": 22,
   "metadata": {},
   "outputs": [
    {
     "data": {
      "text/plain": [
       "<matplotlib.axes._subplots.AxesSubplot at 0x236d47decc0>"
      ]
     },
     "execution_count": 22,
     "metadata": {},
     "output_type": "execute_result"
    },
    {
     "data": {
      "image/png": "[encoded data removed]",
      "text/plain": [
       "<Figure size 432x288 with 1 Axes>"
      ]
     },
     "metadata": {
      "needs_background": "light"
     },
     "output_type": "display_data"
    }
   ],
   "source": [
    "# Se mira la media de los goles por año\n",
    "sns.barplot(x=\"Year\", y=\"Gls\", data=dfbra)"
   ]
  },
  {
   "cell_type": "code",
   "execution_count": 23,
   "metadata": {},
   "outputs": [
    {
     "data": {
      "text/html": [
       "<div>\n",
       "<style scoped>\n",
       "    .dataframe tbody tr th:only-of-type {\n",
       "        vertical-align: middle;\n",
       "    }\n",
       "\n",
       "    .dataframe tbody tr th {\n",
       "        vertical-align: top;\n",
       "    }\n",
       "\n",
       "    .dataframe thead th {\n",
       "        text-align: right;\n",
       "    }\n",
       "</style>\n",
       "<table border=\"1\" class=\"dataframe\">\n",
       "  <thead>\n",
       "    <tr style=\"text-align: right;\">\n",
       "      <th></th>\n",
       "      <th>Pos</th>\n",
       "      <th>Gls</th>\n",
       "    </tr>\n",
       "  </thead>\n",
       "  <tbody>\n",
       "    <tr>\n",
       "      <th>0</th>\n",
       "      <td>DF</td>\n",
       "      <td>0.538259</td>\n",
       "    </tr>\n",
       "    <tr>\n",
       "      <th>1</th>\n",
       "      <td>DF,FW</td>\n",
       "      <td>0.000000</td>\n",
       "    </tr>\n",
       "    <tr>\n",
       "      <th>2</th>\n",
       "      <td>DF,MF</td>\n",
       "      <td>0.555556</td>\n",
       "    </tr>\n",
       "    <tr>\n",
       "      <th>3</th>\n",
       "      <td>DF,MF,FW</td>\n",
       "      <td>1.000000</td>\n",
       "    </tr>\n",
       "    <tr>\n",
       "      <th>4</th>\n",
       "      <td>FW</td>\n",
       "      <td>2.144465</td>\n",
       "    </tr>\n",
       "    <tr>\n",
       "      <th>5</th>\n",
       "      <td>FW,DF,MF</td>\n",
       "      <td>0.000000</td>\n",
       "    </tr>\n",
       "    <tr>\n",
       "      <th>6</th>\n",
       "      <td>FW,MF</td>\n",
       "      <td>2.444444</td>\n",
       "    </tr>\n",
       "    <tr>\n",
       "      <th>7</th>\n",
       "      <td>GK</td>\n",
       "      <td>0.014851</td>\n",
       "    </tr>\n",
       "    <tr>\n",
       "      <th>8</th>\n",
       "      <td>GK,DF</td>\n",
       "      <td>0.000000</td>\n",
       "    </tr>\n",
       "    <tr>\n",
       "      <th>9</th>\n",
       "      <td>MF</td>\n",
       "      <td>1.081019</td>\n",
       "    </tr>\n",
       "    <tr>\n",
       "      <th>10</th>\n",
       "      <td>MF,DF</td>\n",
       "      <td>0.783784</td>\n",
       "    </tr>\n",
       "    <tr>\n",
       "      <th>11</th>\n",
       "      <td>MF,FW</td>\n",
       "      <td>2.366667</td>\n",
       "    </tr>\n",
       "    <tr>\n",
       "      <th>12</th>\n",
       "      <td>MF,FW,DF</td>\n",
       "      <td>0.500000</td>\n",
       "    </tr>\n",
       "    <tr>\n",
       "      <th>13</th>\n",
       "      <td>MF,GK</td>\n",
       "      <td>0.000000</td>\n",
       "    </tr>\n",
       "  </tbody>\n",
       "</table>\n",
       "</div>"
      ],
      "text/plain": [
       "         Pos       Gls\n",
       "0         DF  0.538259\n",
       "1      DF,FW  0.000000\n",
       "2      DF,MF  0.555556\n",
       "3   DF,MF,FW  1.000000\n",
       "4         FW  2.144465\n",
       "5   FW,DF,MF  0.000000\n",
       "6      FW,MF  2.444444\n",
       "7         GK  0.014851\n",
       "8      GK,DF  0.000000\n",
       "9         MF  1.081019\n",
       "10     MF,DF  0.783784\n",
       "11     MF,FW  2.366667\n",
       "12  MF,FW,DF  0.500000\n",
       "13     MF,GK  0.000000"
      ]
     },
     "execution_count": 23,
     "metadata": {},
     "output_type": "execute_result"
    }
   ],
   "source": [
    "# Se mira la media de goles por posición del jugador en los 4 años\n",
    "dfbra.groupby('Pos', as_index = False ).agg( { \"Gls\" : \"mean\" } )"
   ]
  },
  {
   "cell_type": "code",
   "execution_count": 24,
   "metadata": {},
   "outputs": [
    {
     "data": {
      "text/html": [
       "<div>\n",
       "<style scoped>\n",
       "    .dataframe tbody tr th:only-of-type {\n",
       "        vertical-align: middle;\n",
       "    }\n",
       "\n",
       "    .dataframe tbody tr th {\n",
       "        vertical-align: top;\n",
       "    }\n",
       "\n",
       "    .dataframe thead th {\n",
       "        text-align: right;\n",
       "    }\n",
       "</style>\n",
       "<table border=\"1\" class=\"dataframe\">\n",
       "  <thead>\n",
       "    <tr style=\"text-align: right;\">\n",
       "      <th></th>\n",
       "      <th>Pos</th>\n",
       "      <th>Gls</th>\n",
       "    </tr>\n",
       "  </thead>\n",
       "  <tbody>\n",
       "    <tr>\n",
       "      <th>0</th>\n",
       "      <td>DF</td>\n",
       "      <td>758</td>\n",
       "    </tr>\n",
       "    <tr>\n",
       "      <th>1</th>\n",
       "      <td>DF,FW</td>\n",
       "      <td>1</td>\n",
       "    </tr>\n",
       "    <tr>\n",
       "      <th>2</th>\n",
       "      <td>DF,MF</td>\n",
       "      <td>18</td>\n",
       "    </tr>\n",
       "    <tr>\n",
       "      <th>3</th>\n",
       "      <td>DF,MF,FW</td>\n",
       "      <td>1</td>\n",
       "    </tr>\n",
       "    <tr>\n",
       "      <th>4</th>\n",
       "      <td>FW</td>\n",
       "      <td>533</td>\n",
       "    </tr>\n",
       "    <tr>\n",
       "      <th>5</th>\n",
       "      <td>FW,DF,MF</td>\n",
       "      <td>1</td>\n",
       "    </tr>\n",
       "    <tr>\n",
       "      <th>6</th>\n",
       "      <td>FW,MF</td>\n",
       "      <td>27</td>\n",
       "    </tr>\n",
       "    <tr>\n",
       "      <th>7</th>\n",
       "      <td>GK</td>\n",
       "      <td>202</td>\n",
       "    </tr>\n",
       "    <tr>\n",
       "      <th>8</th>\n",
       "      <td>GK,DF</td>\n",
       "      <td>2</td>\n",
       "    </tr>\n",
       "    <tr>\n",
       "      <th>9</th>\n",
       "      <td>MF</td>\n",
       "      <td>864</td>\n",
       "    </tr>\n",
       "    <tr>\n",
       "      <th>10</th>\n",
       "      <td>MF,DF</td>\n",
       "      <td>74</td>\n",
       "    </tr>\n",
       "    <tr>\n",
       "      <th>11</th>\n",
       "      <td>MF,FW</td>\n",
       "      <td>90</td>\n",
       "    </tr>\n",
       "    <tr>\n",
       "      <th>12</th>\n",
       "      <td>MF,FW,DF</td>\n",
       "      <td>2</td>\n",
       "    </tr>\n",
       "    <tr>\n",
       "      <th>13</th>\n",
       "      <td>MF,GK</td>\n",
       "      <td>1</td>\n",
       "    </tr>\n",
       "  </tbody>\n",
       "</table>\n",
       "</div>"
      ],
      "text/plain": [
       "         Pos  Gls\n",
       "0         DF  758\n",
       "1      DF,FW    1\n",
       "2      DF,MF   18\n",
       "3   DF,MF,FW    1\n",
       "4         FW  533\n",
       "5   FW,DF,MF    1\n",
       "6      FW,MF   27\n",
       "7         GK  202\n",
       "8      GK,DF    2\n",
       "9         MF  864\n",
       "10     MF,DF   74\n",
       "11     MF,FW   90\n",
       "12  MF,FW,DF    2\n",
       "13     MF,GK    1"
      ]
     },
     "execution_count": 24,
     "metadata": {},
     "output_type": "execute_result"
    }
   ],
   "source": [
    "# Se mira el total de goles por la posición (en los 4 años)\n",
    "dfbra.groupby('Pos', as_index = False ).agg( { \"Gls\" : \"count\" } )"
   ]
  },
  {
   "cell_type": "code",
   "execution_count": 25,
   "metadata": {},
   "outputs": [],
   "source": [
    "# Se queda con un dataframe de posición de delantero solamente\n",
    "dfbra_delantero = dfbra[dfbra['Pos'] == 'FW']"
   ]
  },
  {
   "cell_type": "code",
   "execution_count": 26,
   "metadata": {},
   "outputs": [
    {
     "data": {
      "text/plain": [
       "<matplotlib.axes._subplots.AxesSubplot at 0x236d47eb978>"
      ]
     },
     "execution_count": 26,
     "metadata": {},
     "output_type": "execute_result"
    },
    {
     "data": {
      "image/png": "[encoded data removed]",
      "text/plain": [
       "<Figure size 432x288 with 1 Axes>"
      ]
     },
     "metadata": {
      "needs_background": "light"
     },
     "output_type": "display_data"
    }
   ],
   "source": [
    "# Aquí se mira la media de goles que los delanteros hiciran en los años. Hemos tenido una caeda de 2.5 para 1.8 dentre 2016 y 2019\n",
    "sns.barplot(x=\"Year\", y=\"Gls\", data=dfbra_delantero)"
   ]
  },
  {
   "cell_type": "code",
   "execution_count": 27,
   "metadata": {},
   "outputs": [
    {
     "data": {
      "text/plain": [
       "<matplotlib.axes._subplots.AxesSubplot at 0x236d6687080>"
      ]
     },
     "execution_count": 27,
     "metadata": {},
     "output_type": "execute_result"
    },
    {
     "data": {
      "image/png": "[encoded data removed]",
      "text/plain": [
       "<Figure size 432x288 with 1 Axes>"
      ]
     },
     "metadata": {
      "needs_background": "light"
     },
     "output_type": "display_data"
    }
   ],
   "source": [
    "# en el valor de la media de ayudas (actuación) en los años también hay una caeda.\n",
    "sns.barplot(x=\"Year\", y=\"Ast\", data=dfbra)"
   ]
  },
  {
   "cell_type": "code",
   "execution_count": 28,
   "metadata": {},
   "outputs": [
    {
     "data": {
      "text/plain": [
       "<matplotlib.axes._subplots.AxesSubplot at 0x236d72488d0>"
      ]
     },
     "execution_count": 28,
     "metadata": {},
     "output_type": "execute_result"
    },
    {
     "data": {
      "image/png": "[encoded data removed]",
      "text/plain": [
       "<Figure size 432x288 with 1 Axes>"
      ]
     },
     "metadata": {
      "needs_background": "light"
     },
     "output_type": "display_data"
    }
   ],
   "source": [
    "# ya la cantidad media de tarjetas rojas hay ocilación entre los años\n",
    "sns.barplot(x=\"Year\", y=\"CrdR\", data=dfbra)"
   ]
  },
  {
   "cell_type": "code",
   "execution_count": 29,
   "metadata": {},
   "outputs": [],
   "source": [
    "# Aquí se guarda el dataframe en formato csv y con el nombra: players_brasil_seriea_16_19\n",
    "dfbra.to_csv('players_brasil_seriea_16_19.csv', index = False)"
   ]
  }
 ],
 "metadata": {
  "kernelspec": {
   "display_name": "Python 3",
   "language": "python",
   "name": "python3"
  },
  "language_info": {
   "codemirror_mode": {
    "name": "ipython",
    "version": 3
   },
   "file_extension": ".py",
   "mimetype": "text/x-python",
   "name": "python",
   "nbconvert_exporter": "python",
   "pygments_lexer": "ipython3",
   "version": "3.7.3"
  }
 },
 "nbformat": 4,
 "nbformat_minor": 2
}
